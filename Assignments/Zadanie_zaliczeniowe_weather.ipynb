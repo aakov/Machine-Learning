{
  "nbformat": 4,
  "nbformat_minor": 0,
  "metadata": {
    "colab": {
      "provenance": []
    },
    "kernelspec": {
      "name": "python3",
      "display_name": "Python 3"
    },
    "language_info": {
      "name": "python"
    }
  },
  "cells": [
    {
      "cell_type": "code",
      "source": [
        "import pandas as pd\n",
        "from sklearn.ensemble import RandomForestClassifier, GradientBoostingClassifier\n",
        "from sklearn.linear_model import LogisticRegression, Perceptron\n",
        "from sklearn.model_selection import train_test_split\n",
        "from sklearn.naive_bayes import GaussianNB\n",
        "from sklearn.neighbors import KNeighborsClassifier\n",
        "from sklearn.tree import DecisionTreeClassifier\n",
        "from sklearn.metrics import classification_report, accuracy_score, balanced_accuracy_score, confusion_matrix, ConfusionMatrixDisplay, RocCurveDisplay, roc_auc_score\n",
        "from sklearn.impute import SimpleImputer\n",
        "from sklearn.impute import KNNImputer\n",
        "import matplotlib.pyplot as plt\n"
      ],
      "metadata": {
        "id": "V3jJPbQb71lw"
      },
      "execution_count": 119,
      "outputs": []
    },
    {
      "cell_type": "code",
      "source": [
        "file_path = 'weather.csv'\n",
        "df = pd.read_csv(file_path)\n",
        "# wcczytywanie pliku"
      ],
      "metadata": {
        "id": "tvqEdx4673R4"
      },
      "execution_count": 120,
      "outputs": []
    },
    {
      "cell_type": "code",
      "source": [
        "print(df.info())\n",
        "print(df.describe())\n",
        "# info"
      ],
      "metadata": {
        "id": "-HFuCamO93t2",
        "colab": {
          "base_uri": "https://localhost:8080/"
        },
        "outputId": "263e3f87-d735-419a-a2f8-e35c75a002be"
      },
      "execution_count": 121,
      "outputs": [
        {
          "output_type": "stream",
          "name": "stdout",
          "text": [
            "<class 'pandas.core.frame.DataFrame'>\n",
            "RangeIndex: 366 entries, 0 to 365\n",
            "Data columns (total 24 columns):\n",
            " #   Column         Non-Null Count  Dtype  \n",
            "---  ------         --------------  -----  \n",
            " 0   Date           366 non-null    object \n",
            " 1   Location       366 non-null    object \n",
            " 2   MinTemp        366 non-null    float64\n",
            " 3   MaxTemp        366 non-null    float64\n",
            " 4   Rainfall       366 non-null    float64\n",
            " 5   Evaporation    366 non-null    float64\n",
            " 6   Sunshine       363 non-null    float64\n",
            " 7   WindGustDir    363 non-null    object \n",
            " 8   WindGustSpeed  364 non-null    float64\n",
            " 9   WindDir9am     335 non-null    object \n",
            " 10  WindDir3pm     365 non-null    object \n",
            " 11  WindSpeed9am   359 non-null    float64\n",
            " 12  WindSpeed3pm   366 non-null    int64  \n",
            " 13  Humidity9am    366 non-null    int64  \n",
            " 14  Humidity3pm    366 non-null    int64  \n",
            " 15  Pressure9am    366 non-null    float64\n",
            " 16  Pressure3pm    366 non-null    float64\n",
            " 17  Cloud9am       366 non-null    int64  \n",
            " 18  Cloud3pm       366 non-null    int64  \n",
            " 19  Temp9am        366 non-null    float64\n",
            " 20  Temp3pm        366 non-null    float64\n",
            " 21  RainToday      366 non-null    object \n",
            " 22  RISK_MM        366 non-null    float64\n",
            " 23  RainTomorrow   366 non-null    object \n",
            "dtypes: float64(12), int64(5), object(7)\n",
            "memory usage: 68.8+ KB\n",
            "None\n",
            "          MinTemp     MaxTemp    Rainfall  Evaporation    Sunshine  \\\n",
            "count  366.000000  366.000000  366.000000   366.000000  363.000000   \n",
            "mean     7.265574   20.550273    1.428415     4.521858    7.909366   \n",
            "std      6.025800    6.690516    4.225800     2.669383    3.481517   \n",
            "min     -5.300000    7.600000    0.000000     0.200000    0.000000   \n",
            "25%      2.300000   15.025000    0.000000     2.200000    5.950000   \n",
            "50%      7.450000   19.650000    0.000000     4.200000    8.600000   \n",
            "75%     12.500000   25.500000    0.200000     6.400000   10.500000   \n",
            "max     20.900000   35.800000   39.800000    13.800000   13.600000   \n",
            "\n",
            "       WindGustSpeed  WindSpeed9am  WindSpeed3pm  Humidity9am  Humidity3pm  \\\n",
            "count     364.000000    359.000000    366.000000   366.000000   366.000000   \n",
            "mean       39.840659      9.651811     17.986339    72.035519    44.519126   \n",
            "std        13.059807      7.951929      8.856997    13.137058    16.850947   \n",
            "min        13.000000      0.000000      0.000000    36.000000    13.000000   \n",
            "25%        31.000000      6.000000     11.000000    64.000000    32.250000   \n",
            "50%        39.000000      7.000000     17.000000    72.000000    43.000000   \n",
            "75%        46.000000     13.000000     24.000000    81.000000    55.000000   \n",
            "max        98.000000     41.000000     52.000000    99.000000    96.000000   \n",
            "\n",
            "       Pressure9am  Pressure3pm    Cloud9am    Cloud3pm     Temp9am  \\\n",
            "count   366.000000   366.000000  366.000000  366.000000  366.000000   \n",
            "mean   1019.709016  1016.810383    3.890710    4.024590   12.358470   \n",
            "std       6.686212     6.469422    2.956131    2.666268    5.630832   \n",
            "min     996.500000   996.800000    0.000000    0.000000    0.100000   \n",
            "25%    1015.350000  1012.800000    1.000000    1.000000    7.625000   \n",
            "50%    1020.150000  1017.400000    3.500000    4.000000   12.550000   \n",
            "75%    1024.475000  1021.475000    7.000000    7.000000   17.000000   \n",
            "max    1035.700000  1033.200000    8.000000    8.000000   24.700000   \n",
            "\n",
            "          Temp3pm     RISK_MM  \n",
            "count  366.000000  366.000000  \n",
            "mean    19.230874    1.428415  \n",
            "std      6.640346    4.225800  \n",
            "min      5.100000    0.000000  \n",
            "25%     14.150000    0.000000  \n",
            "50%     18.550000    0.000000  \n",
            "75%     24.000000    0.200000  \n",
            "max     34.500000   39.800000  \n"
          ]
        }
      ]
    },
    {
      "cell_type": "code",
      "source": [
        "# Sprawdzenie brakujących wartosci\n",
        "missing_values = df.isna().sum()\n",
        "print(missing_values)"
      ],
      "metadata": {
        "colab": {
          "base_uri": "https://localhost:8080/"
        },
        "id": "RrJBXvpAxCgG",
        "outputId": "99c1f248-ab86-4bb3-84d7-d1dde28eaabf"
      },
      "execution_count": 122,
      "outputs": [
        {
          "output_type": "stream",
          "name": "stdout",
          "text": [
            "Date              0\n",
            "Location          0\n",
            "MinTemp           0\n",
            "MaxTemp           0\n",
            "Rainfall          0\n",
            "Evaporation       0\n",
            "Sunshine          3\n",
            "WindGustDir       3\n",
            "WindGustSpeed     2\n",
            "WindDir9am       31\n",
            "WindDir3pm        1\n",
            "WindSpeed9am      7\n",
            "WindSpeed3pm      0\n",
            "Humidity9am       0\n",
            "Humidity3pm       0\n",
            "Pressure9am       0\n",
            "Pressure3pm       0\n",
            "Cloud9am          0\n",
            "Cloud3pm          0\n",
            "Temp9am           0\n",
            "Temp3pm           0\n",
            "RainToday         0\n",
            "RISK_MM           0\n",
            "RainTomorrow      0\n",
            "dtype: int64\n"
          ]
        }
      ]
    },
    {
      "cell_type": "code",
      "source": [
        "df.drop(columns=['RISK_MM'], inplace=True, errors='ignore')\n",
        "# Usunięcie kolumny RISK_MM"
      ],
      "metadata": {
        "id": "OnInsrASi2db"
      },
      "execution_count": 61,
      "outputs": []
    },
    {
      "cell_type": "code",
      "source": [
        "features = [\"MinTemp\",\"MaxTemp\",\"Rainfall\",\"Evaporation\",\n",
        "            \"Sunshine\",\"WindGustDir\",\"WindGustSpeed\",\"WindDir9am\",\"WindDir3pm\",\n",
        "            \"WindSpeed9am\",\"WindSpeed3pm\",\"Humidity9am\",\"Humidity3pm\",\"Pressure9am\",\n",
        "            \"Pressure3pm\",\"Cloud9am\",\"Cloud3pm\",\"Temp9am\",\"Temp3pm\"]\n",
        "\n",
        "target = 'RainTomorrow'\n",
        "# wybieranie kolumn"
      ],
      "metadata": {
        "id": "7STeJgK-8EGo"
      },
      "execution_count": 38,
      "outputs": []
    },
    {
      "cell_type": "code",
      "source": [
        "df['RainTomorrow'] = df['RainTomorrow'].map({'Yes': 1, 'No': 0})\n",
        "df['WindGustDir'] = pd.factorize(df['WindGustDir'])[0]\n",
        "df['WindDir9am'] = pd.factorize(df['WindDir9am'])[0]\n",
        "df['WindDir3pm'] = pd.factorize(df['WindDir3pm'])[0]\n",
        "# Zamiana na cyfrowe fartości"
      ],
      "metadata": {
        "id": "zXDognVk8I_Y"
      },
      "execution_count": 39,
      "outputs": []
    },
    {
      "cell_type": "code",
      "source": [
        "print(df.info())\n",
        "print(df.describe())\n",
        "# sprawdzanie"
      ],
      "metadata": {
        "colab": {
          "base_uri": "https://localhost:8080/"
        },
        "id": "JPyxrYhKTxnb",
        "outputId": "a3b1b3b4-eff1-4526-8634-52790b2a0fe6"
      },
      "execution_count": 123,
      "outputs": [
        {
          "output_type": "stream",
          "name": "stdout",
          "text": [
            "<class 'pandas.core.frame.DataFrame'>\n",
            "RangeIndex: 366 entries, 0 to 365\n",
            "Data columns (total 24 columns):\n",
            " #   Column         Non-Null Count  Dtype  \n",
            "---  ------         --------------  -----  \n",
            " 0   Date           366 non-null    object \n",
            " 1   Location       366 non-null    object \n",
            " 2   MinTemp        366 non-null    float64\n",
            " 3   MaxTemp        366 non-null    float64\n",
            " 4   Rainfall       366 non-null    float64\n",
            " 5   Evaporation    366 non-null    float64\n",
            " 6   Sunshine       363 non-null    float64\n",
            " 7   WindGustDir    363 non-null    object \n",
            " 8   WindGustSpeed  364 non-null    float64\n",
            " 9   WindDir9am     335 non-null    object \n",
            " 10  WindDir3pm     365 non-null    object \n",
            " 11  WindSpeed9am   359 non-null    float64\n",
            " 12  WindSpeed3pm   366 non-null    int64  \n",
            " 13  Humidity9am    366 non-null    int64  \n",
            " 14  Humidity3pm    366 non-null    int64  \n",
            " 15  Pressure9am    366 non-null    float64\n",
            " 16  Pressure3pm    366 non-null    float64\n",
            " 17  Cloud9am       366 non-null    int64  \n",
            " 18  Cloud3pm       366 non-null    int64  \n",
            " 19  Temp9am        366 non-null    float64\n",
            " 20  Temp3pm        366 non-null    float64\n",
            " 21  RainToday      366 non-null    object \n",
            " 22  RISK_MM        366 non-null    float64\n",
            " 23  RainTomorrow   366 non-null    object \n",
            "dtypes: float64(12), int64(5), object(7)\n",
            "memory usage: 68.8+ KB\n",
            "None\n",
            "          MinTemp     MaxTemp    Rainfall  Evaporation    Sunshine  \\\n",
            "count  366.000000  366.000000  366.000000   366.000000  363.000000   \n",
            "mean     7.265574   20.550273    1.428415     4.521858    7.909366   \n",
            "std      6.025800    6.690516    4.225800     2.669383    3.481517   \n",
            "min     -5.300000    7.600000    0.000000     0.200000    0.000000   \n",
            "25%      2.300000   15.025000    0.000000     2.200000    5.950000   \n",
            "50%      7.450000   19.650000    0.000000     4.200000    8.600000   \n",
            "75%     12.500000   25.500000    0.200000     6.400000   10.500000   \n",
            "max     20.900000   35.800000   39.800000    13.800000   13.600000   \n",
            "\n",
            "       WindGustSpeed  WindSpeed9am  WindSpeed3pm  Humidity9am  Humidity3pm  \\\n",
            "count     364.000000    359.000000    366.000000   366.000000   366.000000   \n",
            "mean       39.840659      9.651811     17.986339    72.035519    44.519126   \n",
            "std        13.059807      7.951929      8.856997    13.137058    16.850947   \n",
            "min        13.000000      0.000000      0.000000    36.000000    13.000000   \n",
            "25%        31.000000      6.000000     11.000000    64.000000    32.250000   \n",
            "50%        39.000000      7.000000     17.000000    72.000000    43.000000   \n",
            "75%        46.000000     13.000000     24.000000    81.000000    55.000000   \n",
            "max        98.000000     41.000000     52.000000    99.000000    96.000000   \n",
            "\n",
            "       Pressure9am  Pressure3pm    Cloud9am    Cloud3pm     Temp9am  \\\n",
            "count   366.000000   366.000000  366.000000  366.000000  366.000000   \n",
            "mean   1019.709016  1016.810383    3.890710    4.024590   12.358470   \n",
            "std       6.686212     6.469422    2.956131    2.666268    5.630832   \n",
            "min     996.500000   996.800000    0.000000    0.000000    0.100000   \n",
            "25%    1015.350000  1012.800000    1.000000    1.000000    7.625000   \n",
            "50%    1020.150000  1017.400000    3.500000    4.000000   12.550000   \n",
            "75%    1024.475000  1021.475000    7.000000    7.000000   17.000000   \n",
            "max    1035.700000  1033.200000    8.000000    8.000000   24.700000   \n",
            "\n",
            "          Temp3pm     RISK_MM  \n",
            "count  366.000000  366.000000  \n",
            "mean    19.230874    1.428415  \n",
            "std      6.640346    4.225800  \n",
            "min      5.100000    0.000000  \n",
            "25%     14.150000    0.000000  \n",
            "50%     18.550000    0.000000  \n",
            "75%     24.000000    0.200000  \n",
            "max     34.500000   39.800000  \n"
          ]
        }
      ]
    },
    {
      "cell_type": "code",
      "source": [
        "missing_values = df.isna().sum()\n",
        "print(missing_values)\n",
        "# Sprawdzanie na brakujące wartosci"
      ],
      "metadata": {
        "colab": {
          "base_uri": "https://localhost:8080/"
        },
        "id": "eY02a7h4UkzK",
        "outputId": "42b0130a-b04a-4e1f-fa63-36b1e9d4f44e"
      },
      "execution_count": 125,
      "outputs": [
        {
          "output_type": "stream",
          "name": "stdout",
          "text": [
            "Date              0\n",
            "Location          0\n",
            "MinTemp           0\n",
            "MaxTemp           0\n",
            "Rainfall          0\n",
            "Evaporation       0\n",
            "Sunshine          3\n",
            "WindGustDir       3\n",
            "WindGustSpeed     2\n",
            "WindDir9am       31\n",
            "WindDir3pm        1\n",
            "WindSpeed9am      7\n",
            "WindSpeed3pm      0\n",
            "Humidity9am       0\n",
            "Humidity3pm       0\n",
            "Pressure9am       0\n",
            "Pressure3pm       0\n",
            "Cloud9am          0\n",
            "Cloud3pm          0\n",
            "Temp9am           0\n",
            "Temp3pm           0\n",
            "RainToday         0\n",
            "RISK_MM           0\n",
            "RainTomorrow      0\n",
            "dtype: int64\n"
          ]
        }
      ]
    },
    {
      "cell_type": "code",
      "source": [
        "num_imputer = SimpleImputer(strategy='median')\n",
        "df[features] = num_imputer.fit_transform(df[features])\n",
        "# Usuwanie ewentualnych NaN"
      ],
      "metadata": {
        "id": "fs9HLueKq019"
      },
      "execution_count": 42,
      "outputs": []
    },
    {
      "cell_type": "markdown",
      "source": [],
      "metadata": {
        "id": "bY7wYgXj4D25"
      }
    },
    {
      "cell_type": "code",
      "source": [
        "knn_imputer = KNNImputer(n_neighbors=5)\n",
        "df[features] = knn_imputer.fit_transform(df[features])\n",
        "# Uruchamiać opcjonalnie daje w zasadzie takie same wyniki"
      ],
      "metadata": {
        "id": "z_qqIxcJ4p-f"
      },
      "execution_count": 43,
      "outputs": []
    },
    {
      "cell_type": "code",
      "source": [
        "missing_values = df.isna().sum()\n",
        "print(missing_values)\n",
        "# Nie zostało NaN"
      ],
      "metadata": {
        "colab": {
          "base_uri": "https://localhost:8080/"
        },
        "id": "sXDbllycUdFC",
        "outputId": "005cfe74-f670-42a4-99a6-5f51aad3ee5d"
      },
      "execution_count": 44,
      "outputs": [
        {
          "output_type": "stream",
          "name": "stdout",
          "text": [
            "Date             0\n",
            "Location         0\n",
            "MinTemp          0\n",
            "MaxTemp          0\n",
            "Rainfall         0\n",
            "Evaporation      0\n",
            "Sunshine         0\n",
            "WindGustDir      0\n",
            "WindGustSpeed    0\n",
            "WindDir9am       0\n",
            "WindDir3pm       0\n",
            "WindSpeed9am     0\n",
            "WindSpeed3pm     0\n",
            "Humidity9am      0\n",
            "Humidity3pm      0\n",
            "Pressure9am      0\n",
            "Pressure3pm      0\n",
            "Cloud9am         0\n",
            "Cloud3pm         0\n",
            "Temp9am          0\n",
            "Temp3pm          0\n",
            "RainToday        0\n",
            "RainTomorrow     0\n",
            "dtype: int64\n"
          ]
        }
      ]
    },
    {
      "cell_type": "code",
      "source": [
        "X = df[features]\n",
        "y = df[target]\n",
        "X_train, X_test, y_train, y_test = train_test_split(X, y, test_size=0.2, stratify=y, random_state=42)\n",
        "# Przygotowanie danych"
      ],
      "metadata": {
        "id": "nMIK4sIn8RWr"
      },
      "execution_count": 45,
      "outputs": []
    },
    {
      "cell_type": "markdown",
      "source": [
        "Porównanie kilku modeli o ocenianie ich na podstawie dokładności na zbiorach testowych i treningowych, AUC"
      ],
      "metadata": {
        "id": "UCwqfvkt92FW"
      }
    },
    {
      "cell_type": "code",
      "source": [
        "# Testowanie i opisywanie różnych modeli\n",
        "model = DecisionTreeClassifier()\n",
        "model.fit(X_train, y_train)\n",
        "\n",
        "y_pred = model.predict(X_test)\n",
        "print(\"Decision Tree\")\n",
        "print(\"Accuracy:\", accuracy_score(y_test, y_pred))\n",
        "print(\"Precyzja na zbiorze treningowym\")\n",
        "print(accuracy_score(y_train, model.predict(X_train)))\n",
        "print(\"Classification Report:\")\n",
        "print(classification_report(y_test, y_pred))\n",
        "\n",
        "y_test_pred = model.predict(X_test)\n",
        "cm = confusion_matrix(y_test, y_test_pred)\n",
        "ConfusionMatrixDisplay(cm).plot()\n",
        "dtr = model\n"
      ],
      "metadata": {
        "colab": {
          "base_uri": "https://localhost:8080/",
          "height": 698
        },
        "id": "XfHUkk_88WJx",
        "outputId": "2529fa83-8ca1-4453-83be-54a6c7489e07"
      },
      "execution_count": 107,
      "outputs": [
        {
          "output_type": "stream",
          "name": "stdout",
          "text": [
            "Decision Tree\n",
            "Accuracy: 0.7027027027027027\n",
            "Precyzja na zbiorze treningowym\n",
            "1.0\n",
            "Classification Report:\n",
            "              precision    recall  f1-score   support\n",
            "\n",
            "           0       0.88      0.74      0.80        61\n",
            "           1       0.30      0.54      0.39        13\n",
            "\n",
            "    accuracy                           0.70        74\n",
            "   macro avg       0.59      0.64      0.60        74\n",
            "weighted avg       0.78      0.70      0.73        74\n",
            "\n"
          ]
        },
        {
          "output_type": "display_data",
          "data": {
            "text/plain": [
              "<Figure size 640x480 with 2 Axes>"
            ],
            "image/png": "[encoded data removed]"
          },
          "metadata": {}
        }
      ]
    },
    {
      "cell_type": "code",
      "source": [
        "model = RandomForestClassifier(n_estimators=100, max_depth=5, random_state=42)\n",
        "model.fit(X_train, y_train)\n",
        "\n",
        "print(\"RandomForestClassifier\")\n",
        "y_pred = model.predict(X_test)\n",
        "print(\"Accuracy:\", accuracy_score(y_test, y_pred))\n",
        "\n",
        "print(\"Classification Report:\")\n",
        "\n",
        "print(classification_report(y_test, y_pred))\n",
        "\n",
        "y_test_pred = model.predict(X_test)\n",
        "cm = confusion_matrix(y_test, y_test_pred)\n",
        "ConfusionMatrixDisplay(cm).plot()\n",
        "\n",
        "rfc = model"
      ],
      "metadata": {
        "colab": {
          "base_uri": "https://localhost:8080/",
          "height": 657
        },
        "id": "oFeLiGi-kGe6",
        "outputId": "66eeb8d6-d13b-4e7d-ad46-7f161e1529df"
      },
      "execution_count": 74,
      "outputs": [
        {
          "output_type": "stream",
          "name": "stdout",
          "text": [
            "RandomForestClassifier\n",
            "Accuracy: 0.8648648648648649\n",
            "Classification Report:\n",
            "              precision    recall  f1-score   support\n",
            "\n",
            "           0       0.88      0.97      0.92        61\n",
            "           1       0.71      0.38      0.50        13\n",
            "\n",
            "    accuracy                           0.86        74\n",
            "   macro avg       0.80      0.68      0.71        74\n",
            "weighted avg       0.85      0.86      0.85        74\n",
            "\n"
          ]
        },
        {
          "output_type": "display_data",
          "data": {
            "text/plain": [
              "<Figure size 640x480 with 2 Axes>"
            ],
            "image/png": "[encoded data removed]"
          },
          "metadata": {}
        }
      ]
    },
    {
      "cell_type": "code",
      "source": [
        "model = GradientBoostingClassifier(n_estimators=100, random_state=42)\n",
        "model.fit(X_train, y_train)\n",
        "\n",
        "y_pred = model.predict(X_test)\n",
        "print(\"Gradient Boosting\")\n",
        "print(\"Accuracy:\", accuracy_score(y_test, y_pred))\n",
        "print(\"Classification Report:\")\n",
        "\n",
        "print(classification_report(y_test, y_pred))\n",
        "\n",
        "y_test_pred = model.predict(X_test)\n",
        "cm = confusion_matrix(y_test, y_test_pred)\n",
        "ConfusionMatrixDisplay(cm).plot()\n",
        "gdc = model"
      ],
      "metadata": {
        "id": "hIUbFpHly5lC",
        "colab": {
          "base_uri": "https://localhost:8080/",
          "height": 657
        },
        "outputId": "20bae061-1bbd-4dc4-ba95-c75c3a2442f5"
      },
      "execution_count": 99,
      "outputs": [
        {
          "output_type": "stream",
          "name": "stdout",
          "text": [
            "Gradient Boosting\n",
            "Accuracy: 0.8108108108108109\n",
            "Classification Report:\n",
            "              precision    recall  f1-score   support\n",
            "\n",
            "           0       0.90      0.87      0.88        61\n",
            "           1       0.47      0.54      0.50        13\n",
            "\n",
            "    accuracy                           0.81        74\n",
            "   macro avg       0.68      0.70      0.69        74\n",
            "weighted avg       0.82      0.81      0.82        74\n",
            "\n"
          ]
        },
        {
          "output_type": "display_data",
          "data": {
            "text/plain": [
              "<Figure size 640x480 with 2 Axes>"
            ],
            "image/png": "[encoded data removed]"
          },
          "metadata": {}
        }
      ]
    },
    {
      "cell_type": "code",
      "source": [
        "model = LogisticRegression()\n",
        "model.fit(X_train, y_train)\n",
        "\n",
        "\n",
        "y_pred = model.predict(X_test)\n",
        "print(\"Logistic Regression\")\n",
        "print(\"Accuracy:\", accuracy_score(y_test, y_pred))\n",
        "print(classification_report(y_test, y_pred))\n",
        "\n",
        "y_test_pred = model.predict(X_test)\n",
        "cm = confusion_matrix(y_test, y_test_pred)\n",
        "ConfusionMatrixDisplay(cm).plot()\n",
        "lr = model"
      ],
      "metadata": {
        "colab": {
          "base_uri": "https://localhost:8080/",
          "height": 799
        },
        "id": "AMvnOmiWSdgc",
        "outputId": "0c341e8f-0253-4e09-d5ef-5b9e05653a1a"
      },
      "execution_count": 76,
      "outputs": [
        {
          "output_type": "stream",
          "name": "stderr",
          "text": [
            "/usr/local/lib/python3.11/dist-packages/sklearn/linear_model/_logistic.py:465: ConvergenceWarning: lbfgs failed to converge (status=1):\n",
            "STOP: TOTAL NO. of ITERATIONS REACHED LIMIT.\n",
            "\n",
            "Increase the number of iterations (max_iter) or scale the data as shown in:\n",
            "    https://scikit-learn.org/stable/modules/preprocessing.html\n",
            "Please also refer to the documentation for alternative solver options:\n",
            "    https://scikit-learn.org/stable/modules/linear_model.html#logistic-regression\n",
            "  n_iter_i = _check_optimize_result(\n"
          ]
        },
        {
          "output_type": "stream",
          "name": "stdout",
          "text": [
            "Logistic Regression\n",
            "Accuracy: 0.8783783783783784\n",
            "              precision    recall  f1-score   support\n",
            "\n",
            "           0       0.95      0.90      0.92        61\n",
            "           1       0.62      0.77      0.69        13\n",
            "\n",
            "    accuracy                           0.88        74\n",
            "   macro avg       0.79      0.84      0.81        74\n",
            "weighted avg       0.89      0.88      0.88        74\n",
            "\n"
          ]
        },
        {
          "output_type": "display_data",
          "data": {
            "text/plain": [
              "<Figure size 640x480 with 2 Axes>"
            ],
            "image/png": "[encoded data removed]"
          },
          "metadata": {}
        }
      ]
    },
    {
      "cell_type": "code",
      "source": [
        "model = KNeighborsClassifier(n_neighbors=5)\n",
        "model.fit(X_train, y_train)\n",
        "\n",
        "y_pred = model.predict(X_test)\n",
        "print(\"KNN\")\n",
        "print(\"Accuracy:\", accuracy_score(y_test, y_pred))\n",
        "print(\"Classification Report:\")\n",
        "\n",
        "print(classification_report(y_test, y_pred))\n",
        "\n",
        "y_test_pred = model.predict(X_test)\n",
        "cm = confusion_matrix(y_test, y_test_pred)\n",
        "ConfusionMatrixDisplay(cm).plot()\n",
        "knn = model"
      ],
      "metadata": {
        "colab": {
          "base_uri": "https://localhost:8080/",
          "height": 657
        },
        "id": "9COF5T-LSf8T",
        "outputId": "551f25ba-3567-4ce9-fe80-1eabaa1750ac"
      },
      "execution_count": 126,
      "outputs": [
        {
          "output_type": "stream",
          "name": "stdout",
          "text": [
            "KNN\n",
            "Accuracy: 0.8783783783783784\n",
            "Classification Report:\n",
            "              precision    recall  f1-score   support\n",
            "\n",
            "           0       0.87      1.00      0.93        61\n",
            "           1       1.00      0.31      0.47        13\n",
            "\n",
            "    accuracy                           0.88        74\n",
            "   macro avg       0.94      0.65      0.70        74\n",
            "weighted avg       0.89      0.88      0.85        74\n",
            "\n"
          ]
        },
        {
          "output_type": "display_data",
          "data": {
            "text/plain": [
              "<Figure size 640x480 with 2 Axes>"
            ],
            "image/png": "[encoded data removed]"
          },
          "metadata": {}
        }
      ]
    },
    {
      "cell_type": "code",
      "source": [
        "model = Perceptron(max_iter=1000, random_state=42)\n",
        "model.fit(X_train, y_train)\n",
        "\n",
        "y_pred = model.predict(X_test)\n",
        "print(\"Perceptron\")\n",
        "print(\"Accuracy:\", accuracy_score(y_test, y_pred))\n",
        "print(\"Classification Report:\")\n",
        "\n",
        "print(classification_report(y_test, y_pred))\n",
        "\n",
        "y_test_pred = model.predict(X_test)\n",
        "cm = confusion_matrix(y_test, y_test_pred)\n",
        "ConfusionMatrixDisplay(cm).plot()\n",
        "per = model"
      ],
      "metadata": {
        "colab": {
          "base_uri": "https://localhost:8080/",
          "height": 657
        },
        "id": "EOe7N4KHfana",
        "outputId": "d12f8d3f-707b-4dac-be5c-494ebbe65fa1"
      },
      "execution_count": 127,
      "outputs": [
        {
          "output_type": "stream",
          "name": "stdout",
          "text": [
            "Perceptron\n",
            "Accuracy: 0.8378378378378378\n",
            "Classification Report:\n",
            "              precision    recall  f1-score   support\n",
            "\n",
            "           0       0.88      0.93      0.90        61\n",
            "           1       0.56      0.38      0.45        13\n",
            "\n",
            "    accuracy                           0.84        74\n",
            "   macro avg       0.72      0.66      0.68        74\n",
            "weighted avg       0.82      0.84      0.83        74\n",
            "\n"
          ]
        },
        {
          "output_type": "display_data",
          "data": {
            "text/plain": [
              "<Figure size 640x480 with 2 Axes>"
            ],
            "image/png": "[encoded data removed]"
          },
          "metadata": {}
        }
      ]
    },
    {
      "cell_type": "code",
      "source": [
        "model = GaussianNB()\n",
        "model.fit(X_train, y_train)\n",
        "\n",
        "y_pred = model.predict(X_test)\n",
        "print(\"Naive Bayes\")\n",
        "print(\"Accuracy:\", accuracy_score(y_test, y_pred))\n",
        "print(\"Classification Report:\")\n",
        "\n",
        "print(classification_report(y_test, y_pred))\n",
        "\n",
        "y_test_pred = model.predict(X_test)\n",
        "cm = confusion_matrix(y_test, y_test_pred)\n",
        "ConfusionMatrixDisplay(cm).plot()\n",
        "gnb = model"
      ],
      "metadata": {
        "colab": {
          "base_uri": "https://localhost:8080/",
          "height": 663
        },
        "id": "efgiz7ERkfKJ",
        "outputId": "6f10229d-faca-4df9-cc26-09942372bf41"
      },
      "execution_count": 79,
      "outputs": [
        {
          "output_type": "stream",
          "name": "stdout",
          "text": [
            "Naive Bayes\n",
            "Accuracy: 0.8108108108108109\n",
            "Classification Report:\n",
            "              precision    recall  f1-score   support\n",
            "\n",
            "           0       0.94      0.82      0.88        61\n",
            "           1       0.48      0.77      0.59        13\n",
            "\n",
            "    accuracy                           0.81        74\n",
            "   macro avg       0.71      0.79      0.73        74\n",
            "weighted avg       0.86      0.81      0.83        74\n",
            "\n"
          ]
        },
        {
          "output_type": "display_data",
          "data": {
            "text/plain": [
              "<Figure size 640x480 with 2 Axes>"
            ],
            "image/png": "[encoded data removed]"
          },
          "metadata": {}
        }
      ]
    },
    {
      "cell_type": "code",
      "source": [
        "dtr_auc = roc_auc_score(y_train, dtr.predict_proba(X_train)[:, 1])\n",
        "rfc_auc = roc_auc_score(y_train, rfc.predict_proba(X_train)[:, 1])\n",
        "gdc_auc = roc_auc_score(y_train, gdc.predict_proba(X_train)[:, 1])\n",
        "lr_auc = roc_auc_score(y_train, lr.predict_proba(X_train)[:, 1])\n",
        "knn_auc = roc_auc_score(y_train, knn.predict_proba(X_train)[:, 1])\n",
        "per_auc = roc_auc_score(y_train, per.decision_function(X_train))\n",
        "gnb_auc = roc_auc_score(y_train, gnb.predict_proba(X_train)[:, 1])\n",
        "print(\"Decision Tree AUC:\", dtr_auc)\n",
        "print(\"Random Forest AUC:\", rfc_auc)\n",
        "print(\"Gradient Boosting AUC:\", gdc_auc)\n",
        "print(\"Logistic Regression AUC:\", lr_auc)\n",
        "print(\"KNN AUC:\", knn_auc)\n",
        "print(\"Perceptron AUC:\", per_auc)\n",
        "print(\"Naive Bayes AUC:\", gnb_auc)"
      ],
      "metadata": {
        "colab": {
          "base_uri": "https://localhost:8080/"
        },
        "id": "fFoEZH6978Re",
        "outputId": "5b9ea2f1-ac50-4cc4-9061-d5d0b1f4e1b9"
      },
      "execution_count": 118,
      "outputs": [
        {
          "output_type": "stream",
          "name": "stdout",
          "text": [
            "Decision Tree AUC: 1.0\n",
            "Random Forest AUC: 0.9863424646719824\n",
            "Gradient Boosting AUC: 1.0\n",
            "Logistic Regression AUC: 0.9000552617036394\n",
            "KNN AUC: 0.9355411699692113\n",
            "Perceptron AUC: 0.804136733243862\n",
            "Naive Bayes AUC: 0.8755822215204864\n"
          ]
        }
      ]
    },
    {
      "cell_type": "code",
      "source": [
        "RocCurveDisplay.from_estimator(dtr, X_train, y_train, name=\"Decision Tree\")\n",
        "RocCurveDisplay.from_estimator(rfc, X_train, y_train, name=\"Random Forest\", ax=plt.gca())\n",
        "RocCurveDisplay.from_estimator(gdc,  X_train, y_train, name=\"Gradient Boosting\", ax=plt.gca())\n",
        "RocCurveDisplay.from_estimator(lr,  X_train, y_train, name=\"Logistic Regression\", ax=plt.gca())\n",
        "RocCurveDisplay.from_estimator(knn,  X_train, y_train, name=\"KNN\", ax=plt.gca())\n",
        "RocCurveDisplay.from_estimator(per,  X_train, y_train, name=\"Perceptron\", ax=plt.gca())\n",
        "RocCurveDisplay.from_estimator(gnb,  X_train, y_train, name=\"Naive Bayes\", ax=plt.gca())\n",
        "plt.legend()\n",
        "plt.show()\n",
        "# Krzywe ROC"
      ],
      "metadata": {
        "id": "RBbipVHwtEM5",
        "colab": {
          "base_uri": "https://localhost:8080/",
          "height": 451
        },
        "outputId": "289ffbb7-79d3-4aa7-9f38-15f2b1dd2784"
      },
      "execution_count": 111,
      "outputs": [
        {
          "output_type": "display_data",
          "data": {
            "text/plain": [
              "<Figure size 640x480 with 1 Axes>"
            ],
            "image/png": "[encoded data removed]"
          },
          "metadata": {}
        }
      ]
    },
    {
      "cell_type": "code",
      "source": [
        "print(\"DecisionTreeClassifier\")\n",
        "print(\"Dokładność na zbiorze testowym\")\n",
        "print(accuracy_score(y_test, dtr.predict(X_test)))\n",
        "print(\"Dokładność na zbiorze treningowym\")\n",
        "print(accuracy_score(y_train, dtr.predict(X_train)))\n",
        "print(\"Dokładność na zbiorze treningowym\")\n",
        "\n",
        "print(\"RandomForestClassifier\")\n",
        "print(\"Dokładność na zbiorze testowym\")\n",
        "print(accuracy_score(y_test, rfc.predict(X_test)))\n",
        "print(\"Dokładność na zbiorze treningowym\")\n",
        "print(accuracy_score(y_train, rfc.predict(X_train)))\n",
        "\n",
        "print(\"GradientBoostingClassifier\")\n",
        "print(\"Dokładność na zbiorze testowym\")\n",
        "print(accuracy_score(y_test, gdc.predict(X_test)))\n",
        "print(\"Dokładność na zbiorze treningowym\")\n",
        "print(accuracy_score(y_train, gdc.predict(X_train)))\n",
        "\n",
        "print(\"LogisticRegression\")\n",
        "print(\"Dokładność na zbiorze testowym\")\n",
        "print(accuracy_score(y_test, lr.predict(X_test)))\n",
        "print(\"Dokładność na zbiorze treningowym\")\n",
        "print(accuracy_score(y_train, lr.predict(X_train)))\n",
        "\n",
        "print(\"KNeighborsClassifier\")\n",
        "print(\"Dokładność na zbiorze testowym\")\n",
        "print(accuracy_score(y_test, knn.predict(X_test)))\n",
        "print(\"Dokładność na zbiorze treningowym\")\n",
        "print(accuracy_score(y_train, knn.predict(X_train)))\n",
        "\n",
        "\n",
        "print(\"Perceptron\")\n",
        "print(\"Dokładność na zbiorze testowym\")\n",
        "print(accuracy_score(y_test, per.predict(X_test)))\n",
        "print(\"Dokładność na zbiorze treningowym\")\n",
        "print(accuracy_score(y_train, per.predict(X_train)))\n",
        "\n",
        "\n",
        "print(\"Naive Bayes\")\n",
        "print(\"Precyzja na zbiorze testowym\")\n",
        "print(accuracy_score(y_test, gnb.predict(X_test)))\n",
        "print(\"Precyzja na zbiorze treningowym\")\n",
        "print(accuracy_score(y_train, gnb.predict(X_train)))\n",
        "\n",
        "\n"
      ],
      "metadata": {
        "colab": {
          "base_uri": "https://localhost:8080/"
        },
        "id": "-HzHvU6xu6P_",
        "outputId": "5a5dbfc9-b8ac-4e53-93e8-7a8b8fbd94eb"
      },
      "execution_count": 112,
      "outputs": [
        {
          "output_type": "stream",
          "name": "stdout",
          "text": [
            "DecisionTreeClassifier\n",
            "Dokładność na zbiorze testowym\n",
            "0.7027027027027027\n",
            "Dokładność na zbiorze treningowym\n",
            "1.0\n",
            "Dokładność na zbiorze treningowym\n",
            "RandomForestClassifier\n",
            "Dokładność na zbiorze testowym\n",
            "0.8648648648648649\n",
            "Dokładność na zbiorze treningowym\n",
            "0.9486301369863014\n",
            "GradientBoostingClassifier\n",
            "Dokładność na zbiorze testowym\n",
            "0.8108108108108109\n",
            "Dokładność na zbiorze treningowym\n",
            "1.0\n",
            "LogisticRegression\n",
            "Dokładność na zbiorze testowym\n",
            "0.8783783783783784\n",
            "Dokładność na zbiorze treningowym\n",
            "0.8835616438356164\n",
            "KNeighborsClassifier\n",
            "Dokładność na zbiorze testowym\n",
            "0.8783783783783784\n",
            "Dokładność na zbiorze treningowym\n",
            "0.8767123287671232\n",
            "Perceptron\n",
            "Dokładność na zbiorze testowym\n",
            "0.8378378378378378\n",
            "Dokładność na zbiorze treningowym\n",
            "0.8561643835616438\n",
            "Naive Bayes\n",
            "Precyzja na zbiorze testowym\n",
            "0.8108108108108109\n",
            "Precyzja na zbiorze treningowym\n",
            "0.8561643835616438\n"
          ]
        }
      ]
    },
    {
      "cell_type": "markdown",
      "source": [
        "Posumowanie\n",
        "\n",
        "Drzewo Decyzyjne: Znaczne przeuczenie zwłaszcza na zbiorze treningowym(Train: 1.0, Test: 0.70, AUC: 1.0)\n",
        "\n",
        "Random Forest: Dobrze zrównoważona dokładność, ryzyko przeuczenia (Train: 0.95, Test: 0.86, AUC: 0.986)\n",
        "\n",
        "Gradient Boosting: Wysoka dokładność na zbiorze treningowym, ale niższa na testowym, preucznie (Train: 1.0, Test: 0.81, AUC: 1.0).\n",
        "\n",
        "Logistic Regression: Stabilne wyniki, zbliżona wysoka dokładność dla obu zbiorów (Train: 0.88, Test: 0.88, AUC: 0.9).\n",
        "\n",
        "KNN: Spójna dokładność dla obu zbiorów (Train: 0.88, Test: 0.88, AUC: 0.935).\n",
        "\n",
        "Perceptron: Trochę większyt wynik na zbiorze treningowym (Train: 0.86, Test: 0.84, AUC: 0.804).\n",
        "\n",
        "Naive Bayes: Stabilny wynik, skutecznosć > 80% i mniej niż 90% w obydwu przypadkach (Train: 0.86, Test: 0.81, AUC: 0.875).\n",
        "\n",
        "Model bazujący na regresji logistycznej ma największą precyzję na zbiorze treningowym\n",
        "\n",
        "GradientBoostingClassifier i DecisionTreeClassifier mają 100 precyzję na zbiorze treningowym\n",
        "\n",
        "Random Forest i Logistic Regression zapewniają najlepszą równowagę między skutecznością a ogólną zdolnością do generalizacji\n",
        "\n",
        "Gradient Boosting daje dobre wyniki ale jest przeuczenie się\n",
        "\n",
        "KNN i Naive Bayes są stabilne, ale mniej dokładne\n",
        "\n",
        "Drzewo Decyzyjne przeucza się i nie jest wiarygodne.\n",
        "\n",
        "Wystarczającą dokładnośc bez przeuczenia się można uzyskać stosując na danym zbiorze danych modele KNN, Naive Bayes i Logistic Regression"
      ],
      "metadata": {
        "id": "xx2Cwz0D1SM_"
      }
    },
    {
      "cell_type": "code",
      "source": [],
      "metadata": {
        "id": "aFsoZEvp2uf1"
      },
      "execution_count": null,
      "outputs": []
    }
  ]
}