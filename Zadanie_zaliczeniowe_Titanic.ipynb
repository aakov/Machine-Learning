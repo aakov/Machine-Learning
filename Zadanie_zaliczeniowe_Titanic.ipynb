{
  "nbformat": 4,
  "nbformat_minor": 0,
  "metadata": {
    "colab": {
      "provenance": [],
      "toc_visible": true
    },
    "kernelspec": {
      "name": "python3",
      "display_name": "Python 3"
    },
    "language_info": {
      "name": "python"
    }
  },
  "cells": [
    {
      "cell_type": "code",
      "execution_count": 80,
      "metadata": {
        "id": "eD3eFuT-ulLh"
      },
      "outputs": [],
      "source": [
        "import pandas as pd\n",
        "import numpy as np\n",
        "from sklearn.model_selection import train_test_split\n",
        "from sklearn.experimental import enable_iterative_imputer\n",
        "from sklearn.impute import IterativeImputer, SimpleImputer, KNNImputer\n",
        "from sklearn.preprocessing import StandardScaler, LabelEncoder\n",
        "from sklearn.ensemble import RandomForestClassifier, GradientBoostingClassifier\n",
        "from sklearn.linear_model import LogisticRegression, Perceptron\n",
        "from sklearn.metrics import accuracy_score, classification_report\n",
        "from sklearn.naive_bayes import GaussianNB\n",
        "from sklearn.neighbors import KNeighborsClassifier\n"
      ]
    },
    {
      "cell_type": "code",
      "source": [
        "data = pd.read_csv(\"titanic.csv\")\n"
      ],
      "metadata": {
        "id": "1Xj20_zGuqwd"
      },
      "execution_count": 81,
      "outputs": []
    },
    {
      "cell_type": "code",
      "source": [
        "print(data.info())\n",
        "print(data.describe())"
      ],
      "metadata": {
        "colab": {
          "base_uri": "https://localhost:8080/"
        },
        "id": "5eb-WbcT0D91",
        "outputId": "b9a3f104-1a90-4955-f767-0b42c4e72c6b"
      },
      "execution_count": 82,
      "outputs": [
        {
          "output_type": "stream",
          "name": "stdout",
          "text": [
            "<class 'pandas.core.frame.DataFrame'>\n",
            "RangeIndex: 1309 entries, 0 to 1308\n",
            "Data columns (total 14 columns):\n",
            " #   Column     Non-Null Count  Dtype  \n",
            "---  ------     --------------  -----  \n",
            " 0   pclass     1309 non-null   int64  \n",
            " 1   survived   1309 non-null   int64  \n",
            " 2   name       1309 non-null   object \n",
            " 3   sex        1309 non-null   object \n",
            " 4   age        1046 non-null   float64\n",
            " 5   sibsp      1309 non-null   int64  \n",
            " 6   parch      1309 non-null   int64  \n",
            " 7   ticket     1309 non-null   object \n",
            " 8   fare       1308 non-null   float64\n",
            " 9   cabin      295 non-null    object \n",
            " 10  embarked   1307 non-null   object \n",
            " 11  boat       486 non-null    object \n",
            " 12  body       121 non-null    float64\n",
            " 13  home_dest  745 non-null    object \n",
            "dtypes: float64(3), int64(4), object(7)\n",
            "memory usage: 143.3+ KB\n",
            "None\n",
            "            pclass     survived          age        sibsp        parch  \\\n",
            "count  1309.000000  1309.000000  1046.000000  1309.000000  1309.000000   \n",
            "mean      2.294882     0.381971    29.881135     0.498854     0.385027   \n",
            "std       0.837836     0.486055    14.413500     1.041658     0.865560   \n",
            "min       1.000000     0.000000     0.166700     0.000000     0.000000   \n",
            "25%       2.000000     0.000000    21.000000     0.000000     0.000000   \n",
            "50%       3.000000     0.000000    28.000000     0.000000     0.000000   \n",
            "75%       3.000000     1.000000    39.000000     1.000000     0.000000   \n",
            "max       3.000000     1.000000    80.000000     8.000000     9.000000   \n",
            "\n",
            "              fare        body  \n",
            "count  1308.000000  121.000000  \n",
            "mean     33.295479  160.809917  \n",
            "std      51.758668   97.696922  \n",
            "min       0.000000    1.000000  \n",
            "25%       7.895800   72.000000  \n",
            "50%      14.454200  155.000000  \n",
            "75%      31.275000  256.000000  \n",
            "max     512.329200  328.000000  \n"
          ]
        }
      ]
    },
    {
      "cell_type": "code",
      "source": [
        "data.drop(columns=['boat', 'body', 'cabin', 'ticket'], errors='ignore', inplace=True)\n",
        "# imię zostawiam"
      ],
      "metadata": {
        "id": "S59E2TsGutVE"
      },
      "execution_count": 83,
      "outputs": []
    },
    {
      "cell_type": "code",
      "source": [
        "data['sex'] = LabelEncoder().fit_transform(data['sex'])\n",
        "data['embarked'] = LabelEncoder().fit_transform(data['embarked'])\n",
        "data['pclass'] = data['pclass'].astype('category')\n",
        "data['embarked'] = data['embarked'].astype('category')\n",
        "data['sex'] = data['sex'].astype('category')\n",
        "# Praca nad wartosciami"
      ],
      "metadata": {
        "id": "g8ofGm1Huu6s"
      },
      "execution_count": 84,
      "outputs": []
    },
    {
      "cell_type": "code",
      "source": [
        "imp = IterativeImputer()\n",
        "\n",
        "data['embarked'] = imp.fit_transform(data[['embarked']])\n",
        "data['pclass'] = data['pclass'].astype(float)\n",
        "# Wypelnianie"
      ],
      "metadata": {
        "id": "n9rjQBhvuyKc"
      },
      "execution_count": 85,
      "outputs": []
    },
    {
      "cell_type": "code",
      "source": [
        "data['title'] = data['name'].str.extract(r' ([A-Za-z]+)\\.', expand=False) #Wyciąganie tutuły z imienia\n",
        "data['age'] = data['age'].fillna(data.groupby(['title', 'sex'], observed=False)['age'].transform('mean'))\n",
        "# Wypełnianie wieku"
      ],
      "metadata": {
        "id": "ayM2vwlkv56c"
      },
      "execution_count": 86,
      "outputs": []
    },
    {
      "cell_type": "code",
      "source": [
        "data['family_size'] = data['sibsp'] + data['parch'] + 1\n",
        "data['age_range'] = pd.cut(data['age'], bins=[0, 6, 12, 18, 67], labels=['Bobas', 'Dzieciak', 'Nastolatek', 'Dorosly'])\n",
        "data['age_range'] = data['age_range'].cat.codes\n",
        "\n",
        "data['mpc'] = data['age'] * data['pclass']\n",
        "\n",
        "# Dodatkowe wartosci"
      ],
      "metadata": {
        "id": "Z3o9V2aLwCIU"
      },
      "execution_count": 87,
      "outputs": []
    },
    {
      "cell_type": "code",
      "source": [
        "data.dropna(inplace=True)\n",
        "# Na wszelki wypadek"
      ],
      "metadata": {
        "id": "vMqMepS4u6Gs"
      },
      "execution_count": 88,
      "outputs": []
    },
    {
      "cell_type": "code",
      "source": [
        "\n",
        "scaler = StandardScaler()\n",
        "data[['age', 'fare', 'family_size', 'mpc']] = scaler.fit_transform(data[['age', 'fare', 'family_size', 'mpc']])\n",
        "# Normalizacja"
      ],
      "metadata": {
        "id": "cYTG7TeJzwOL"
      },
      "execution_count": 89,
      "outputs": []
    },
    {
      "cell_type": "code",
      "source": [
        "X = data[['sex', 'age', 'age_range', 'pclass', 'fare', 'family_size', 'mpc', 'parch']]\n",
        "y = data['survived']\n",
        "X_train, X_test, y_train, y_test = train_test_split(X, y, test_size=0.2, random_state=42)"
      ],
      "metadata": {
        "id": "hGlAuZVOyOlL"
      },
      "execution_count": 99,
      "outputs": []
    },
    {
      "cell_type": "code",
      "source": [
        "model = RandomForestClassifier(random_state=42)\n",
        "model.fit(X_train, y_train)\n",
        "\n",
        "y_pred = model.predict(X_test)\n",
        "\n",
        "print(\"RandomForestClassifier\")\n",
        "print(\"Accuracy:\", accuracy_score(y_test, y_pred))"
      ],
      "metadata": {
        "colab": {
          "base_uri": "https://localhost:8080/"
        },
        "id": "RA-fNekiyYHk",
        "outputId": "a292ffca-8186-41b4-b4d0-3e1fb4bdb2dd"
      },
      "execution_count": 91,
      "outputs": [
        {
          "output_type": "stream",
          "name": "stdout",
          "text": [
            "RandomForestClassifier\n",
            "Accuracy: 0.7651006711409396\n"
          ]
        }
      ]
    },
    {
      "cell_type": "code",
      "source": [
        "model = LogisticRegression(max_iter=1000)\n",
        "model.fit(X_train, y_train)\n",
        "\n",
        "y_pred = model.predict(X_test)\n",
        "print(\"Logistic Regression\")\n",
        "print(\"Accuracy:\", accuracy_score(y_test, y_pred))"
      ],
      "metadata": {
        "colab": {
          "base_uri": "https://localhost:8080/"
        },
        "id": "T5SGSfdO0oUL",
        "outputId": "4a6e7744-b3ed-4de3-d946-75f8a9cfc4ef"
      },
      "execution_count": 92,
      "outputs": [
        {
          "output_type": "stream",
          "name": "stdout",
          "text": [
            "Logistic Regression\n",
            "Accuracy: 0.7516778523489933\n"
          ]
        }
      ]
    },
    {
      "cell_type": "code",
      "source": [
        "model = GaussianNB()\n",
        "model.fit(X_train, y_train)\n",
        "\n",
        "y_pred = model.predict(X_test)\n",
        "print(\"Naive Bayes\")\n",
        "print(\"Accuracy:\", accuracy_score(y_test, y_pred))"
      ],
      "metadata": {
        "colab": {
          "base_uri": "https://localhost:8080/"
        },
        "id": "SdRm9aDk0vWc",
        "outputId": "c1d4beed-9a12-4b8d-c36a-f3b65ffaa9ad"
      },
      "execution_count": 93,
      "outputs": [
        {
          "output_type": "stream",
          "name": "stdout",
          "text": [
            "Naive Bayes\n",
            "Accuracy: 0.7248322147651006\n"
          ]
        }
      ]
    },
    {
      "cell_type": "code",
      "source": [
        "model = Perceptron(max_iter=1000, random_state=42)\n",
        "model.fit(X_train, y_train)\n",
        "\n",
        "y_pred = model.predict(X_test)\n",
        "print(\"Perceptron\")\n",
        "print(\"Accuracy:\", accuracy_score(y_test, y_pred))"
      ],
      "metadata": {
        "colab": {
          "base_uri": "https://localhost:8080/"
        },
        "id": "nA9hW40j0w2T",
        "outputId": "83cc39b4-9b2d-4462-9fd1-cf00cc9754b9"
      },
      "execution_count": 94,
      "outputs": [
        {
          "output_type": "stream",
          "name": "stdout",
          "text": [
            "Perceptron\n",
            "Accuracy: 0.4966442953020134\n"
          ]
        }
      ]
    },
    {
      "cell_type": "code",
      "source": [
        "model = KNeighborsClassifier(n_neighbors=5)\n",
        "model.fit(X_train, y_train)\n",
        "\n",
        "y_pred = model.predict(X_test)\n",
        "print(\"KNN\")\n",
        "print(\"Accuracy:\", accuracy_score(y_test, y_pred))"
      ],
      "metadata": {
        "colab": {
          "base_uri": "https://localhost:8080/"
        },
        "id": "B_B3B2RP0zwb",
        "outputId": "54823c59-92bd-4fb5-8e51-275306755686"
      },
      "execution_count": 95,
      "outputs": [
        {
          "output_type": "stream",
          "name": "stdout",
          "text": [
            "KNN\n",
            "Accuracy: 0.6845637583892618\n"
          ]
        }
      ]
    },
    {
      "cell_type": "code",
      "source": [
        "model = GradientBoostingClassifier(n_estimators=100, random_state=42)\n",
        "model.fit(X_train, y_train)\n",
        "\n",
        "y_pred = model.predict(X_test)\n",
        "print(\"Gradient Boosting\")\n",
        "print(\"Accuracy:\", accuracy_score(y_test, y_pred))\n",
        "# Ten osiąga 80%"
      ],
      "metadata": {
        "colab": {
          "base_uri": "https://localhost:8080/"
        },
        "id": "J6wNTgmh01sr",
        "outputId": "08adc2c4-cc13-43fd-92c5-f1b82f8a45a7"
      },
      "execution_count": 100,
      "outputs": [
        {
          "output_type": "stream",
          "name": "stdout",
          "text": [
            "Gradient Boosting\n",
            "Accuracy: 0.8120805369127517\n"
          ]
        }
      ]
    }
  ]
}